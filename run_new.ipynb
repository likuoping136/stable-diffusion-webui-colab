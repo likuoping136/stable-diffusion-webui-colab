{
  "cells": [
    {
      "cell_type": "markdown",
      "metadata": {
        "id": "view-in-github",
        "colab_type": "text"
      },
      "source": [
        "<a href=\"https://colab.research.google.com/github/likuoping136/stable-diffusion-webui-colab/blob/main/run_new.ipynb\" target=\"_parent\"><img src=\"https://colab.research.google.com/assets/colab-badge.svg\" alt=\"Open In Colab\"/></a>"
      ]
    },
    {
      "cell_type": "code",
      "execution_count": null,
      "metadata": {
        "id": "SaAJk33ppFw1"
      },
      "outputs": [],
      "source": [
        "%cd /content\n",
        "from google.colab import drive\n",
        "drive.mount('/content/drive')\n",
        "!apt -y install -qq unionfs-fuse\n",
        "%env PYTHONDONTWRITEBYTECODE=1\n",
        "%env LD_PRELOAD=/content/drive/MyDrive/stable-diffusion-webui-colab/libtcmalloc_minimal.so.4\n",
        "# 4. 创建目录（使用 -p 参数，如果目录已存在则不会报错）\n",
        "!mkdir -p /content/drive/MyDrive/stable-diffusion-webui-colab/models\n",
        "!mkdir -p /content/drive/MyDrive/stable-diffusion-webui-colab/fused-models\n",
        "!mkdir -p /content/drive/MyDrive/stable-diffusion-webui-colab/fused-lora\n",
        "!mkdir -p /content/drive/MyDrive/stable-diffusion-webui-colab/lora\n",
        "# 5. 合并路径（这部分通常不需要判断，因为它是动态挂载的）\n",
        "!unionfs-fuse /content/drive/MyDrive/stable-diffusion-webui-colab/stable-diffusion-webui/models/Stable-diffusion=RW:/content/drive/MyDrive/stable-diffusion-webui-colab/models=RW /content/drive/MyDrive/stable-diffusion-webui-colab/fused-models\n",
        "!unionfs-fuse /content/drive/MyDrive/stable-diffusion-webui-colab/stable-diffusion-webui/extensions/sd-webui-additional-networks/models/lora=RW:/content/drive/MyDrive/stable-diffusion-webui-colab/stable-diffusion-webui/models/Lora=RW:/content/drive/MyDrive/stable-diffusion-webui-colab/lora=RW /content/drive/MyDrive/stable-diffusion-webui-colab/fused-lora\n",
        "print(\"混合模型路径完毕\")\n",
        "%cd /content/drive/MyDrive/stable-diffusion-webui-colab/stable-diffusion-webui\n",
        "!pip install insightface xformers basicsr\n",
        "%env PYTHONPATH=/content/drive/MyDrive/stable-diffusion-webui-colab/pip-list:$PYTHONPATH\n",
        "!python launch.py --listen --xformers --enable-insecure-extension-access --theme dark --gradio-queue --clip-models-path /content/drive/MyDrive/stable-diffusion-webui-colab/stable-diffusion-webui/models/CLIP --ckpt-dir /content/fused-models --lora-dir /content/fused-lora --multiple\n",
        "\n"
      ]
    }
  ],
  "metadata": {
    "colab": {
      "private_outputs": true,
      "provenance": [],
      "gpuType": "T4",
      "include_colab_link": true
    },
    "kernelspec": {
      "display_name": "Python 3",
      "name": "python3"
    },
    "language_info": {
      "name": "python"
    },
    "accelerator": "GPU"
  },
  "nbformat": 4,
  "nbformat_minor": 0
}