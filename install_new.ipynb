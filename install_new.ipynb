{
  "cells": [
    {
      "cell_type": "markdown",
      "metadata": {
        "id": "view-in-github",
        "colab_type": "text"
      },
      "source": [
        "<a href=\"https://colab.research.google.com/github/likuoping136/stable-diffusion-webui-colab/blob/main/install_new.ipynb\" target=\"_parent\"><img src=\"https://colab.research.google.com/assets/colab-badge.svg\" alt=\"Open In Colab\"/></a>"
      ]
    },
    {
      "cell_type": "code",
      "execution_count": null,
      "metadata": {
        "id": "SaAJk33ppFw1"
      },
      "outputs": [],
      "source": [
        "%cd /content\n",
        "from google.colab import drive\n",
        "drive.mount('/content/drive')\n",
        "\n",
        "%env PYTHONDONTWRITEBYTECODE=1\n",
        "\n",
        "# 导入必要的模块用于检查路径存在性\n",
        "import os\n",
        "\n",
        "# 检查目标目录是否存在，如果不存在则执行克隆\n",
        "target_dir = '/content/drive/MyDrive/stable-diffusion-webui-colab/stable-diffusion-webui'\n",
        "if not os.path.exists(target_dir):\n",
        "    !git clone https://github.com/likuoping136/stable-diffusion-webui.git /content/drive/MyDrive/stable-diffusion-webui-colab/stable-diffusion-webui\n",
        "    print(\"Stable Diffusion WebUI 克隆完成。\")\n",
        "else:\n",
        "    print(\"Stable Diffusion WebUI 目录已存在，跳过克隆操作。\")\n",
        "\n",
        "# 检查目标文件是否存在，如果不存在则下载\n",
        "file_path = '/content/libtcmalloc_minimal.so.4'\n",
        "if not os.path.exists(file_path):\n",
        "    !wget https://github.com/camenduru/gperftools/releases/download/v1.0/libtcmalloc_minimal.so.4 -O /content/drive/MyDrive/stable-diffusion-webui-colab/libtcmalloc_minimal.so.4\n",
        "    print(\"libtcmalloc_minimal.so.4 下载完成。\")\n",
        "else:\n",
        "    print(\"libtcmalloc_minimal.so.4 文件已存在，跳过下载操作。\")\n",
        "\n",
        "%env LD_PRELOAD=/content/drive/MyDrive/stable-diffusion-webui-colab/\n",
        "print(\"安装流程完成。\")\n"
      ]
    }
  ],
  "metadata": {
    "colab": {
      "private_outputs": true,
      "provenance": [],
      "include_colab_link": true
    },
    "gpuClass": "standard",
    "kernelspec": {
      "display_name": "Python 3",
      "name": "python3"
    },
    "language_info": {
      "name": "python"
    }
  },
  "nbformat": 4,
  "nbformat_minor": 0
}